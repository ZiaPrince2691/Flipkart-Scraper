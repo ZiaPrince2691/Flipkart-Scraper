{
 "cells": [
  {
   "cell_type": "code",
   "execution_count": 32,
   "id": "831facf2",
   "metadata": {},
   "outputs": [],
   "source": [
    "from selenium import webdriver\n",
    "from selenium.webdriver.common.by import By\n",
    "from email.message import EmailMessage\n",
    "import smtplib"
   ]
  },
  {
   "cell_type": "code",
   "execution_count": 33,
   "id": "424e18fb",
   "metadata": {},
   "outputs": [],
   "source": [
    "def send_email(sender, password, to, message):\n",
    "\n",
    "    subject = \"Change in price of an item you were interested in.\"\n",
    "\n",
    "    msg = EmailMessage()\n",
    "    msg['Subject'] = subject\n",
    "    msg['From'] = sender\n",
    "    msg['To'] = to\n",
    "    msg.set_content(message)\n",
    "\n",
    "    with smtplib.SMTP_SSL('smtp.gmail.com', 465) as smtp:\n",
    "        smtp.login(sender, password)\n",
    "        smtp.send_message(msg)"
   ]
  },
  {
   "cell_type": "code",
   "execution_count": 35,
   "id": "5ded41b4",
   "metadata": {},
   "outputs": [],
   "source": [
    "def get_new_price(url):\n",
    "    driver = webdriver.Chrome()\n",
    "    driver.get(url)\n",
    "    new_price = int(driver.find_element(By.CLASS_NAME , 'Nx9bqj').text.replace('₹',''))\n",
    "    return new_price"
   ]
  },
  {
   "cell_type": "code",
   "execution_count": null,
   "id": "420e99a0",
   "metadata": {},
   "outputs": [],
   "source": [
    "def monitor_item(url, old_price, sender, password, to):\n",
    "    new_price = get_new_price(url)\n",
    "    if new_price < old_price:\n",
    "        message = f'''\n",
    "            The price of the product you asked me to monitor has been decreased from ₹{old_price} to ₹{new_price}.\n",
    "            Check it out :-\n",
    "            {url}\n",
    "        '''\n",
    "        send_email(sender, password, to, message)"
   ]
  },
  {
   "cell_type": "code",
   "execution_count": 27,
   "id": "cb0c7956",
   "metadata": {},
   "outputs": [],
   "source": [
    "url = 'https://flipkart.com/noworries-creative-thought-laptop-skin-motivational-15-6inch-sticker-size-11x16inch-vinyl-skin-compatible-15-6-inch/p/itmba24cc338bfdc?pid=LSDGC2G8NQ5BKEG7&lid=LSTLSDGC2G8NQ5BKEG7NP6OFZ&marketplace=FLIPKART&q=laptop+sticker&store=6bo%2Fai3%2Fzvm&srno=s_1_3&otracker=search&fm=organic&iid=68b59d56-ffa7-47f5-ac4f-2a5b7c1166db.LSDGC2G8NQ5BKEG7.SEARCH&ppt=None&ppn=None&ssid=f7raxqtd3k0000001754593893645&qH=a1b40a083868b3a3'\n",
    "old_price = 113"
   ]
  },
  {
   "cell_type": "code",
   "execution_count": 19,
   "id": "92497aae",
   "metadata": {},
   "outputs": [],
   "source": [
    "driver = webdriver.Chrome()\n",
    "driver.get(url)"
   ]
  },
  {
   "cell_type": "code",
   "execution_count": 28,
   "id": "fdc1bee1",
   "metadata": {},
   "outputs": [
    {
     "data": {
      "text/plain": [
       "111"
      ]
     },
     "execution_count": 28,
     "metadata": {},
     "output_type": "execute_result"
    }
   ],
   "source": [
    "new_price = int(driver.find_element(By.CLASS_NAME , 'Nx9bqj').text.replace('₹',''))\n",
    "new_price"
   ]
  },
  {
   "cell_type": "code",
   "execution_count": null,
   "id": "a6dcd785",
   "metadata": {},
   "outputs": [],
   "source": [
    "if new_price < old_price:\n",
    "    sender = 'muhammadzia19285@gmail.com'\n",
    "    password = 'dvvc mwqh pfjn wmok'\n",
    "    to = 'ziaprince27@gmail.com'\n",
    "    message = f'''\n",
    "        The price of the product you asked me to monitor has been decreased from ₹{old_price} to ₹{new_price}.\n",
    "        Check it out :-\n",
    "        {url}\n",
    "    '''\n",
    "    send_email(sender, password, to, message)"
   ]
  }
 ],
 "metadata": {
  "kernelspec": {
   "display_name": "Python 3",
   "language": "python",
   "name": "python3"
  },
  "language_info": {
   "codemirror_mode": {
    "name": "ipython",
    "version": 3
   },
   "file_extension": ".py",
   "mimetype": "text/x-python",
   "name": "python",
   "nbconvert_exporter": "python",
   "pygments_lexer": "ipython3",
   "version": "3.13.5"
  }
 },
 "nbformat": 4,
 "nbformat_minor": 5
}
